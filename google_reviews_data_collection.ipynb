{
 "cells": [
  {
   "cell_type": "code",
   "execution_count": 1,
   "metadata": {},
   "outputs": [],
   "source": [
    "myKey = 'GOOGLE_PLACES_API_KEY'"
   ]
  },
  {
   "cell_type": "code",
   "execution_count": 2,
   "metadata": {},
   "outputs": [],
   "source": [
    "import csv\n",
    "import googlemaps\n",
    "import time\n",
    "from googlemaps.exceptions import ApiError\n",
    "import pandas as pd"
   ]
  },
  {
   "cell_type": "code",
   "execution_count": 3,
   "metadata": {},
   "outputs": [
    {
     "name": "stdout",
     "output_type": "stream",
     "text": [
      "Searching for places in Colombo...\n",
      "Searching for places in Hanoi...\n",
      "Searching for places in Dhaka...\n",
      "Searching for places in San Francisco...\n",
      "Searching for places in Taipei...\n",
      "Searching for places in Morocco...\n"
     ]
    }
   ],
   "source": [
    "\n",
    "\n",
    "# Initialize the Google Maps client\n",
    "gmaps = googlemaps.Client(key=myKey)\n",
    "\n",
    "# Define the cities (Melbourne, London, New York) with their coordinates\n",
    "cities = [\n",
    "    {\"name\": \"Colombo\", \"coordinates\": (6.927079, 79.861244)},\n",
    "    {\"name\": \"Hanoi\", \"coordinates\": (21.028511, 105.804817)},\n",
    "    {\"name\": \"Dhaka\", \"coordinates\": (23.811056, 90.407608)},\n",
    "    {\"name\": \"San Francisco\", \"coordinates\": (37.773972, -122.431297)},\n",
    "    {\"name\": \"Taipei\", \"coordinates\": (25.105497, 121.597366)},\n",
    "    {\"name\": \"Morocco\", \"coordinates\": (31.625502, -7.988936)},\n",
    "    {\"name\": \"Melbourne\", \"coordinates\": (-37.8136, 144.9631)},\n",
    "    {\"name\": \"London\", \"coordinates\": (51.5074, -0.1278)},\n",
    "    {\"name\": \"New York\", \"coordinates\": (40.7128, -74.0060)},\n",
    "    {\"name\": \"São Paulo\", \"coordinates\": (-23.5505, -46.6333)},\n",
    "    {\"name\": \"Tokyo\", \"coordinates\": (35.6762, 139.6503)},\n",
    "    {\"name\": \"Istanbul\", \"coordinates\": (41.0082, 28.9784)},\n",
    "    {\"name\": \"Beijing\", \"coordinates\": (39.9042, 116.4074)},\n",
    "    {\"name\": \"Delhi\", \"coordinates\": (28.6139, 77.2090)},\n",
    "    {\"name\": \"Cape Town\", \"coordinates\": (-33.9249, 18.4241)}\n",
    "]\n",
    "\n",
    "# Setting radius\n",
    "radius = 25000 # 25 KM\n",
    "search_terms = ['cafe', 'tea house', 'tea', 'coffee', 'bubble tea', 'coffee shop']\n",
    "\n",
    "filename = 'cities.csv'\n",
    "with open(filename, mode='w', newline='', encoding='utf-8') as file:\n",
    "    writer = csv.writer(file)\n",
    "    writer.writerow(['City', 'Place Type', 'Name', 'PlaceID', 'Address', 'Rating', 'Author', 'Review'])\n",
    "\n",
    "    for city in cities:\n",
    "        city_name = city['name']\n",
    "        location = city['coordinates']\n",
    "        print(f\"Searching for places in {city_name}...\")\n",
    "\n",
    "        for term in search_terms:\n",
    "            try:\n",
    " \n",
    "                places = gmaps.places_nearby(location=location, radius= radius, keyword=term)\n",
    "\n",
    "                while True:\n",
    "                    for place in places['results']:\n",
    "                        name = place['name']\n",
    "                        placeid = place['place_id']\n",
    "                        address = place.get('vicinity', 'N/A')\n",
    "                        rating = place.get('rating', 'N/A')\n",
    "\n",
    "                        try:\n",
    "                            place_details = gmaps.place(place_id=placeid)\n",
    "                            reviews = place_details['result'].get('reviews', [])\n",
    "\n",
    "                            if reviews:\n",
    "                                for review in reviews:\n",
    "                                    author = review.get('author_name', 'N/A')\n",
    "                                    text = review.get('text', 'N/A')\n",
    "                                    writer.writerow([city_name, term, name, placeid, address, rating, author, text])\n",
    "                            else:\n",
    "                                writer.writerow([city_name, term, name, placeid, address, rating, 'N/A', 'N/A'])\n",
    "\n",
    "                        except ApiError as e:\n",
    "                            print(f\"Error fetching details for place ID {placeid}: {e}\")\n",
    "                            writer.writerow([city_name, term, name, placeid, address, rating, 'N/A', 'N/A'])\n",
    "\n",
    "                    if 'next_page_token' in places:\n",
    "                        time.sleep(2)  # wait 2 seconds before using the next page token\n",
    "                        places = gmaps.places_nearby(location=location, radius=radius, keyword=term, page_token=places['next_page_token'])\n",
    "                    else:\n",
    "                        break\n",
    "            except ApiError as e:\n",
    "                print(f\"An error occurred in {city_name} for {term}: {e}\")"
   ]
  }
 ],
 "metadata": {
  "kernelspec": {
   "display_name": "muglife",
   "language": "python",
   "name": "python3"
  },
  "language_info": {
   "codemirror_mode": {
    "name": "ipython",
    "version": 3
   },
   "file_extension": ".py",
   "mimetype": "text/x-python",
   "name": "python",
   "nbconvert_exporter": "python",
   "pygments_lexer": "ipython3",
   "version": "3.11.10"
  }
 },
 "nbformat": 4,
 "nbformat_minor": 2
}
